{
 "cells": [
  {
   "cell_type": "code",
   "execution_count": 8,
   "id": "d5521f2c",
   "metadata": {},
   "outputs": [
    {
     "name": "stdout",
     "output_type": "stream",
     "text": [
      "0     4\n",
      "1     8\n",
      "2    15\n",
      "3    16\n",
      "4    23\n",
      "5    42\n",
      "dtype: int64\n"
     ]
    }
   ],
   "source": [
    "Q1. Create a Pandas Series that contains the following data: 4, 8, 15, 16, 23, and 42. Then, print the series.\n",
    "Ans.\n",
    "import pandas as pd\n",
    "data=[4,8,15,16,23,42]\n",
    "s=pd.Series(data)\n",
    "print(s)"
   ]
  },
  {
   "cell_type": "code",
   "execution_count": 9,
   "id": "177a50e8",
   "metadata": {},
   "outputs": [
    {
     "name": "stdout",
     "output_type": "stream",
     "text": [
      "0    hello\n",
      "1       12\n",
      "2       34\n",
      "3       56\n",
      "4      xyz\n",
      "5      abc\n",
      "6       67\n",
      "7       98\n",
      "8      mno\n",
      "9      bye\n",
      "dtype: object\n"
     ]
    }
   ],
   "source": [
    "Q2. Create a variable of list type containing 10 elements in it, and apply pandas.Series function on the\n",
    "variable print it.\n",
    "Ans.\n",
    "data1=[\"hello\",12,34,56,\"xyz\",\"abc\",67,98,\"mno\",\"bye\"]\n",
    "s=pd.Series(data1)\n",
    "print(s)"
   ]
  },
  {
   "cell_type": "code",
   "execution_count": 10,
   "id": "16cc9617",
   "metadata": {},
   "outputs": [
    {
     "name": "stdout",
     "output_type": "stream",
     "text": [
      "     Name  Age  Gender\n",
      "0   Alice   25  Female\n",
      "1     Bob   30    Male\n",
      "2  Claire   27  Female\n"
     ]
    }
   ],
   "source": [
    "Q3. Create a Pandas DataFrame that contains the following data:\n",
    "    Then, print the DataFrame.\n",
    "Ans.\n",
    "data2={\"Name\":[\"Alice\",\"Bob\",\"Claire\"],\n",
    "       \"Age\":[25,30,27],\n",
    "       \"Gender\":[\"Female\",\"Male\",\"Female\"]}\n",
    "s=pd.DataFrame(data2)\n",
    "print(s)"
   ]
  },
  {
   "cell_type": "code",
   "execution_count": 14,
   "id": "41747c0f",
   "metadata": {},
   "outputs": [
    {
     "name": "stdout",
     "output_type": "stream",
     "text": [
      "DataFrame:\n",
      "   calories  duration\n",
      "0       420        50\n",
      "1       380        40\n",
      "2       390        45\n",
      "Series:\n",
      "calories    420\n",
      "duration     50\n",
      "Name: 0, dtype: int64\n",
      "<class 'pandas.core.series.Series'>\n",
      "<class 'pandas.core.frame.DataFrame'>\n"
     ]
    }
   ],
   "source": [
    "Q4. What is ‘DataFrame’ in pandas and how is it different from pandas.series? Explain with an example.\n",
    "Ans.\n",
    "A Pandas DataFrame is a 2 dimensional data structure, like a 2 dimensional array, or a table with rows and columns.\n",
    "# Difference between DataFrame and Series\n",
    "A Series is an analog of a one-dimensional array with flexible indices, whereas\n",
    "A DataFrame is an analog of a two-dimensional array with both flexible row indices and flexible column names.\n",
    "# Example\n",
    "data = {\n",
    "  \"calories\": [420, 380, 390],\n",
    "  \"duration\": [50, 40, 45]\n",
    "}\n",
    "\n",
    "df = pd.DataFrame(data)\n",
    "print(\"DataFrame:\")\n",
    "print(df)\n",
    "print(\"Series:\")\n",
    "print(df.loc[0])\n",
    "print(type(df.loc[0]))\n",
    "print(type(df))"
   ]
  },
  {
   "cell_type": "code",
   "execution_count": null,
   "id": "2ed35a1b",
   "metadata": {},
   "outputs": [],
   "source": [
    "Q6. Which of the following is mutable in nature Series, DataFrame, Panel?\n",
    "Ans.\n",
    "All Pandas data structures i.e. Series, DataFrame and Panel are value mutable (can be changed) and except Series all are size mutable."
   ]
  },
  {
   "cell_type": "code",
   "execution_count": 4,
   "id": "baa041f0",
   "metadata": {},
   "outputs": [
    {
     "name": "stdout",
     "output_type": "stream",
     "text": [
      "         0      1     2\n",
      "0    Spark  22000  1000\n",
      "1  PySpark  25000  2300\n",
      "2   Hadoop  23000  1000\n"
     ]
    }
   ],
   "source": [
    "import pandas as pd\n",
    "# Create pandas Series\n",
    "courses = pd.Series([\"Spark\",\"PySpark\",\"Hadoop\"])\n",
    "fees = pd.Series([22000,25000,23000])\n",
    "discount  = pd.Series([1000,2300,1000])\n",
    "\n",
    "# Combine two series.\n",
    "df=pd.concat([courses,fees],axis=1)\n",
    "\n",
    "# It also supports to combine multiple series.\n",
    "df=pd.concat([courses,fees,discount],axis=1)\n",
    "print(df)"
   ]
  },
  {
   "cell_type": "code",
   "execution_count": null,
   "id": "8afdec6b",
   "metadata": {},
   "outputs": [],
   "source": [
    "Q5. What are some common functions you can use to manipulate data in a Pandas DataFrame? Can\n",
    "you give an example of when you might use one of these functions?\n",
    "Ans.\n",
    "1.head() and tail() ---> Head and tail allow us to display rows from the top of bottom of data frame, respectively.5 rows are displayed by default \n",
    "2.DataFrame.info( ) ---> To get a quick overview of the dataset we use the dataframe.info() function. It is used to get a concise summary of the dataframe.\n",
    "3.dtypes() ---> Dtypes shows the data type of each column.\n",
    "4.describe() ---> The describe() method will do a quick statistical summary for every numerical column\n",
    "5. loc() and iloc() ---> loc and iloc are used to select rows and columns.\n",
    "                         loc: select by labels\n",
    "                         iloc: select by positions"
   ]
  }
 ],
 "metadata": {
  "kernelspec": {
   "display_name": "Python 3 (ipykernel)",
   "language": "python",
   "name": "python3"
  },
  "language_info": {
   "codemirror_mode": {
    "name": "ipython",
    "version": 3
   },
   "file_extension": ".py",
   "mimetype": "text/x-python",
   "name": "python",
   "nbconvert_exporter": "python",
   "pygments_lexer": "ipython3",
   "version": "3.10.5"
  }
 },
 "nbformat": 4,
 "nbformat_minor": 5
}
