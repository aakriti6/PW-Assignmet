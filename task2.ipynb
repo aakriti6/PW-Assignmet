{
 "cells": [
  {
   "cell_type": "code",
   "execution_count": 19,
   "id": "f7ce4b21",
   "metadata": {},
   "outputs": [
    {
     "name": "stdout",
     "output_type": "stream",
     "text": [
      "Enter the password:YAshi@#$26\n"
     ]
    },
    {
     "data": {
      "text/plain": [
       "'Valid Password'"
      ]
     },
     "execution_count": 19,
     "metadata": {},
     "output_type": "execute_result"
    }
   ],
   "source": [
    "Q1. You are writing code for a company. The requirement of the company is that you create a python\n",
    "function that will check whether the password entered by the user is correct or not. The function should\n",
    "take the password as input and return the string “Valid Password” if the entered password follows the\n",
    "below-given password guidelines else it should return “Invalid Password”.\n",
    "\n",
    "Note: 1. The Password should contain at least two uppercase letters and at least two lowercase letters.\n",
    "2. The Password should contain at least a number and three special characters.\n",
    "3. The length of the password should be 10 characters long.\n",
    "\n",
    "Answer:\n",
    "\n",
    "def password_check(password):\n",
    "    x=list(password)\n",
    "    upper=lower=schar=num=0\n",
    "    for i in range(len(x)):\n",
    "        if x[i].isupper():\n",
    "            upper=upper+1  \n",
    "            \n",
    "        else:\n",
    "            lower=lower+1\n",
    "        if x[i].isalpha():\n",
    "            continue\n",
    "        elif x[i].isdigit():\n",
    "            num=num+1\n",
    "        else:\n",
    "            schar=schar+1\n",
    "    if upper>=2 and lower>=2 and num>=1 and schar>=3 and len(password)==10:\n",
    "        return \"Valid Password\"\n",
    "    else:\n",
    "        return \"Invalid Password\"\n",
    "        \n",
    "password=input(\"Enter the password:\")\n",
    "password_check(password)"
   ]
  },
  {
   "cell_type": "code",
   "execution_count": null,
   "id": "347437d5",
   "metadata": {},
   "outputs": [],
   "source": [
    "Enter the password:YAshi@#$26\n",
    "'Valid Password'"
   ]
  },
  {
   "cell_type": "code",
   "execution_count": null,
   "id": "44709001",
   "metadata": {},
   "outputs": [],
   "source": [
    "Q2. Solve the below-given questions using at least one of the following:\n",
    "1. Lambda functioJ\n",
    "2. Filter functioJ\n",
    "3. Zap functioJ\n",
    "4. List ComprehensioI"
   ]
  },
  {
   "cell_type": "code",
   "execution_count": 33,
   "id": "e2e710ec",
   "metadata": {},
   "outputs": [
    {
     "name": "stdout",
     "output_type": "stream",
     "text": [
      "true\n",
      "false\n"
     ]
    }
   ],
   "source": [
    "A. Check if the string starts with a particular letter\n",
    "\n",
    "#Program\n",
    "\n",
    "a=lambda s,p: \"true\" if s[0]==p else \"false\"\n",
    "print(a(\"Yashi\",'Y'))\n",
    "print(a(\"aakriti\",'m'))"
   ]
  },
  {
   "cell_type": "code",
   "execution_count": 36,
   "id": "fa497948",
   "metadata": {},
   "outputs": [
    {
     "name": "stdout",
     "output_type": "stream",
     "text": [
      "true\n",
      "false\n"
     ]
    }
   ],
   "source": [
    "B Check if the string is numeric\n",
    "\n",
    "#Program\n",
    "\n",
    "a=lambda s: \"true\" if s.isnumeric() else \"false\"\n",
    "print(a(\"2344\"))\n",
    "print(a(\"hello\"))"
   ]
  },
  {
   "cell_type": "code",
   "execution_count": 46,
   "id": "f71b661a",
   "metadata": {},
   "outputs": [
    {
     "name": "stdout",
     "output_type": "stream",
     "text": [
      "[('grapes', 1000), ('mango', 99), ('orange', 80)]\n"
     ]
    }
   ],
   "source": [
    "C Sort a list of tuples having fruit names and their quantity. [(\"mango\",99),(\"orange\",80), (\"grapes\", 1000)]\n",
    "\n",
    "#Program\n",
    "\n",
    "list=[(\"mango\",99),(\"orange\",80),(\"grapes\",1000)]\n",
    "sort=[1000,99,80]\n",
    "res = [i for j in sort\n",
    "       for i in filter(lambda k: k[1] == j, list)]\n",
    "print(res)"
   ]
  },
  {
   "cell_type": "code",
   "execution_count": 59,
   "id": "9ff00bc3",
   "metadata": {},
   "outputs": [
    {
     "name": "stdout",
     "output_type": "stream",
     "text": [
      "1 4 9 16 25 36 49 64 81 100 "
     ]
    }
   ],
   "source": [
    "D Find the squares of numbers from 1 to 10\n",
    "\n",
    "#Program\n",
    "\n",
    "x=lambda i:i**2\n",
    "for i in range(1,11):\n",
    "    print(x(i),end=\" \")"
   ]
  },
  {
   "cell_type": "code",
   "execution_count": 62,
   "id": "7d66438b",
   "metadata": {},
   "outputs": [
    {
     "name": "stdout",
     "output_type": "stream",
     "text": [
      "1.0 1.2599210498948732 1.4422495703074083 1.5874010519681994 1.7099759466766968 1.8171205928321397 1.912931182772389 2.0 2.080083823051904 2.154434690031884 "
     ]
    }
   ],
   "source": [
    "E Find the cube root of numbers from 1 to 10\n",
    "\n",
    "#Program\n",
    "\n",
    "x=lambda i:i**(1/3)\n",
    "for i in range(1,11):\n",
    "    print(x(i),end=\" \")"
   ]
  },
  {
   "cell_type": "code",
   "execution_count": 69,
   "id": "9b5d05e4",
   "metadata": {},
   "outputs": [
    {
     "name": "stdout",
     "output_type": "stream",
     "text": [
      "false\n",
      "true\n"
     ]
    }
   ],
   "source": [
    "F Check if a given number is even\n",
    "\n",
    "#Program\n",
    "\n",
    "a=lambda x:\"true\" if x%2==0 else \"false\"\n",
    "print(a(45))\n",
    "print(a(68))"
   ]
  },
  {
   "cell_type": "code",
   "execution_count": 75,
   "id": "ac9b251a",
   "metadata": {},
   "outputs": [
    {
     "data": {
      "text/plain": [
       "{2, 4, 6, 8, 10}"
      ]
     },
     "execution_count": 75,
     "metadata": {},
     "output_type": "execute_result"
    }
   ],
   "source": [
    "G Filter odd numbers from the given list.\n",
    "  [1,2,3,4,5,6,7,8,9,10]\n",
    "\n",
    "#Program\n",
    "\n",
    "l=[1,2,3,4,5,6,7,8,9,10]\n",
    "set(filter(lambda x:x%2==0,l))"
   ]
  },
  {
   "cell_type": "code",
   "execution_count": 86,
   "id": "2bcda083",
   "metadata": {},
   "outputs": [
    {
     "name": "stdout",
     "output_type": "stream",
     "text": [
      "[0, 1, 2, 3, 4, 5]\n",
      "[-5, -4, -3, -2, 6]\n"
     ]
    }
   ],
   "source": [
    "H  Sort a list of integers into positive and negative integers lists.\n",
    "   [1,2,3,4,5,6,-1,-2,-3,-4,-5,0]\n",
    "\n",
    "#Program\n",
    "\n",
    "l=[1,2,3,4,5,6,-1,-2,-3,-4,-5,0]\n",
    "p=[i for i in l if l[i]>0]\n",
    "n=[i for i in l if l[i]<0]\n",
    "p.sort()\n",
    "n.sort()\n",
    "print(p)\n",
    "print(n)"
   ]
  }
 ],
 "metadata": {
  "kernelspec": {
   "display_name": "Python 3 (ipykernel)",
   "language": "python",
   "name": "python3"
  },
  "language_info": {
   "codemirror_mode": {
    "name": "ipython",
    "version": 3
   },
   "file_extension": ".py",
   "mimetype": "text/x-python",
   "name": "python",
   "nbconvert_exporter": "python",
   "pygments_lexer": "ipython3",
   "version": "3.10.5"
  }
 },
 "nbformat": 4,
 "nbformat_minor": 5
}
