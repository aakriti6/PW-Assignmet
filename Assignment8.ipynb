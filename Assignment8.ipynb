{
 "cells": [
  {
   "cell_type": "code",
   "execution_count": null,
   "id": "dcb8e854",
   "metadata": {},
   "outputs": [],
   "source": [
    "Q1. Which function is used to open a file? What are the different modes of opening a file? Explain each mode\n",
    "of file opening.\n",
    "\n",
    "Ans.In Python, we use the open() method to open files.\n",
    "There are 6 access modes in python.\n",
    "1.Read Only (‘r’) : Open text file for reading. The handle is positioned at the beginning of the file. If the file does not exists, raises the I/O error. This is also the default mode in which a file is opened.\n",
    "2.Read and Write (‘r+’): Open the file for reading and writing. The handle is positioned at the beginning of the file. Raises I/O error if the file does not exist.\n",
    "3.Write Only (‘w’) : Open the file for writing. For the existing files, the data is truncated and over-written. The handle is positioned at the beginning of the file. Creates the file if the file does not exist.\n",
    "4.Write and Read (‘w+’) : Open the file for reading and writing. For an existing file, data is truncated and over-written. The handle is positioned at the beginning of the file.\n",
    "5.Append Only (‘a’): Open the file for writing. The file is created if it does not exist. The handle is positioned at the end of the file. The data being written will be inserted at the end, after the existing data.\n",
    "6.Append and Read (‘a+’) : Open the file for reading and writing. The file is created if it does not exist. The handle is positioned at the end of the file. The data being written will be inserted at the end, after the existing data."
   ]
  },
  {
   "cell_type": "code",
   "execution_count": null,
   "id": "5dbc28f0",
   "metadata": {},
   "outputs": [],
   "source": [
    "Q2. Why close() function is used? Why is it important to close a file?\n",
    "\n",
    "Ans. When we use the close() file Python method over a file object then it flushes any unwritten information and eventually closes the file object. \n",
    "     This makes sure that no more writing can be done in that file.\n",
    "     The close() method closes an open file. You should always close your files, in some cases, due to buffering, changes made to a file may not show until you close the file.\n",
    "    It is important because files are limited resources managed by the operating system, making sure files are closed after use will protect against hard-to-debug issues like running out of file handles or experiencing corrupted data."
   ]
  },
  {
   "cell_type": "code",
   "execution_count": 3,
   "id": "8766a6f7",
   "metadata": {},
   "outputs": [
    {
     "name": "stdout",
     "output_type": "stream",
     "text": [
      "I want to become a Data Scientist\n"
     ]
    }
   ],
   "source": [
    "Q3. Write a python program to create a text file. Write ‘I want to become a Data Scientist’ in that file. Then\n",
    "close the file. Open this file and read the content of the file.\n",
    "Ans.\n",
    "#Program\n",
    "f= open(\"test.txt\",'w') \n",
    "f.write(\"I want to become a Data Scientist\")\n",
    "f.close()\n",
    "with open(\"test.txt\",'r') as f:\n",
    "    print(f.read())"
   ]
  },
  {
   "cell_type": "code",
   "execution_count": null,
   "id": "aa78867e",
   "metadata": {},
   "outputs": [],
   "source": [
    "Q4. Explain the following with python code: read(), readline() and readlines().\n",
    "Ans.\n",
    "1.Read ( ): Returns the read bytes in the form of a string. Reads n bytes; if n is not specified, then reads the entire file.\n",
    "2.Readline ( ): Reads a line of the file and returns in the form of a string. For specified n, reads at most n bytes.\n",
    "3.readlines ( ): Reads all the lines and returns them as a string element in a list.\n",
    "                 Readlines ( ) is used to read all the lines at a single go and then return them as a string element in a list."
   ]
  },
  {
   "cell_type": "code",
   "execution_count": null,
   "id": "f09a7f11",
   "metadata": {},
   "outputs": [],
   "source": [
    "Q5. Explain why with statement is used with open(). What is the advantage of using with statement and\n",
    "open() together?\n",
    "\n",
    "Ans.The with statement is a replacement for commonly used try/finally error-handling statements.\n",
    "    A common example of using the with statement is opening a file.\n",
    "    \n",
    "    #Advantage\n",
    "    When you call the open() function using the with statement, the file closes automatically after you've processed the file. "
   ]
  },
  {
   "cell_type": "code",
   "execution_count": null,
   "id": "e017c9c2",
   "metadata": {},
   "outputs": [],
   "source": [
    "Q6. Explain the write() and writelines() functions. Give a suitable example.\n",
    "Ans.\n",
    "6.1.write(): The write() function will write the content in the file without adding any extra characters.\n",
    "    #Program\n",
    "file = open(\"Employees.txt\", \"w\")\n",
    "\n",
    "for i in range(3):\n",
    "    name = input(\"Enter the name of the employee: \")\n",
    "    file.write(name)\n",
    "    file.write(\"\\n\")\n",
    "\n",
    "file.close()\n",
    "\n",
    "print(\"Data is written into the file.\")\n"
   ]
  },
  {
   "cell_type": "code",
   "execution_count": null,
   "id": "afbb96cb",
   "metadata": {},
   "outputs": [],
   "source": [
    "6.2.writelines(): This function writes the content of a list to a file.\n",
    "    #Program\n",
    "    file1 = open(\"Employees.txt\", \"w\")\n",
    "lst = []\n",
    "for i in range(3):\n",
    "    name = input(\"Enter the name of the employee: \")\n",
    "    lst.append(name + '\\n')\n",
    "\n",
    "file1.writelines(lst)\n",
    "file1.close()\n",
    "print(\"Data is written into the file.\")\n"
   ]
  }
 ],
 "metadata": {
  "kernelspec": {
   "display_name": "Python 3 (ipykernel)",
   "language": "python",
   "name": "python3"
  },
  "language_info": {
   "codemirror_mode": {
    "name": "ipython",
    "version": 3
   },
   "file_extension": ".py",
   "mimetype": "text/x-python",
   "name": "python",
   "nbconvert_exporter": "python",
   "pygments_lexer": "ipython3",
   "version": "3.10.5"
  }
 },
 "nbformat": 4,
 "nbformat_minor": 5
}
