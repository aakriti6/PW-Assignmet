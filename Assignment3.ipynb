{
 "cells": [
  {
   "cell_type": "code",
   "execution_count": null,
   "id": "56c552fd",
   "metadata": {},
   "outputs": [],
   "source": [
    "Q1. Explain with an example each when to use a for loop and a while loop.\n",
    "Ans. 1. for loop:-The for loop is used when the number of iterations is already known."
   ]
  },
  {
   "cell_type": "code",
   "execution_count": null,
   "id": "4bb23c09",
   "metadata": {},
   "outputs": [],
   "source": [
    "n = [1, 2, 3]  \n",
    "for i in n:  \n",
    "    print(i)"
   ]
  },
  {
   "cell_type": "code",
   "execution_count": null,
   "id": "7bc2c0db",
   "metadata": {},
   "outputs": [],
   "source": [
    "2. while loop:-A \"while\" loop is used when the number of iterations is unknown.\n",
    "               The statement repeats itself till the boolean value becomes false. "
   ]
  },
  {
   "cell_type": "code",
   "execution_count": null,
   "id": "a2fe78f4",
   "metadata": {},
   "outputs": [],
   "source": [
    "i = 1  \n",
    "while i < 4:  \n",
    "    print(i)\n",
    "    i += 1  "
   ]
  },
  {
   "cell_type": "code",
   "execution_count": null,
   "id": "b6464cda",
   "metadata": {},
   "outputs": [],
   "source": [
    "Q2. Write a python program to print the sum and product of the first 10 natural numbers using for\n",
    "and while loop."
   ]
  },
  {
   "cell_type": "code",
   "execution_count": null,
   "id": "63969ba1",
   "metadata": {},
   "outputs": [],
   "source": [
    "# using for loop\n",
    "sum=0\n",
    "prod=1\n",
    "for i in range(1,11):\n",
    "    sum=sum+i\n",
    "    prod=prod*i\n",
    "print(\"The sum and product of first 10 natural numbers is:\",sum,\"and\",prod,\"respectively\")\n"
   ]
  },
  {
   "cell_type": "code",
   "execution_count": null,
   "id": "d391ea70",
   "metadata": {},
   "outputs": [],
   "source": [
    "#using while loop\n",
    "sum=0\n",
    "prod=1\n",
    "i=1\n",
    "while i<=10:\n",
    "    sum=sum+i\n",
    "    prod=prod*i\n",
    "    i=i+1\n",
    "print(\"The sum and product of first 10 natural numbers is:\",sum,\"and\",prod,\"respectively\")"
   ]
  },
  {
   "cell_type": "code",
   "execution_count": null,
   "id": "adf492cc",
   "metadata": {},
   "outputs": [],
   "source": [
    "Q3. Create a python program to compute the electricity bill for a household."
   ]
  },
  {
   "cell_type": "code",
   "execution_count": 5,
   "id": "388b5eef",
   "metadata": {},
   "outputs": [
    {
     "name": "stdout",
     "output_type": "stream",
     "text": [
      "Unit of Electricity:310\n",
      "The electricity bill for a household is 2250.0\n"
     ]
    }
   ],
   "source": [
    "unit=int(input(\"Unit of Electricity:\"))\n",
    "if unit<=100:\n",
    "    print(\"The electricity bill for a household is\",100*4.5)\n",
    "elif unit>100 and unit<=200:\n",
    "    print(\"The electricity bill for a household is\",100*4.5+((unit-100)*6))\n",
    "elif unit>200 and unit<=300:\n",
    "    print(\"The electricity bill for a household is\",100*4.5+100*6+((unit-200)*10))\n",
    "elif unit>300:\n",
    "    print(\"The electricity bill for a household is\",100*4.5+100*6+100*10+((unit-300)*20))"
   ]
  },
  {
   "cell_type": "code",
   "execution_count": null,
   "id": "61dc1881",
   "metadata": {},
   "outputs": [],
   "source": [
    "Q4. Create a list of numbers from 1 to 100. Use for loop and while loop to calculate the cube of each\n",
    "number and if the cube of that number is divisible by 4 or 5 then append that number in a list and print\n",
    "that list."
   ]
  },
  {
   "cell_type": "code",
   "execution_count": 8,
   "id": "24323943",
   "metadata": {},
   "outputs": [
    {
     "name": "stdout",
     "output_type": "stream",
     "text": [
      "[1, 2, 2, 3, 4, 4, 5, 5, 6, 6, 7, 8, 8, 9, 10, 10, 11, 12, 12, 13, 14, 14, 15, 15, 16, 16, 17, 18, 18, 19, 20, 20, 21, 22, 22, 23, 24, 24, 25, 25, 26, 26, 27, 28, 28, 29, 30, 30, 31, 32, 32, 33, 34, 34, 35, 35, 36, 36, 37, 38, 38, 39, 40, 40, 41, 42, 42, 43, 44, 44, 45, 45, 46, 46, 47, 48, 48, 49, 50, 50, 51, 52, 52, 53, 54, 54, 55, 55, 56, 56, 57, 58, 58, 59, 60, 60, 61, 62, 62, 63, 64, 64, 65, 65, 66, 66, 67, 68, 68, 69, 70, 70, 71, 72, 72, 73, 74, 74, 75, 75, 76, 76, 77, 78, 78, 79, 80, 80, 81, 82, 82, 83, 84, 84, 85, 85, 86, 86, 87, 88, 88, 89, 90, 90, 91, 92, 92, 93, 94, 94, 95, 95, 96, 96, 97, 98, 98, 99, 100, 100]\n"
     ]
    }
   ],
   "source": [
    "l=[]\n",
    "for i in range(1,101):\n",
    "    l.append(i)\n",
    "    cube=i*i*i\n",
    "    x=cube%100\n",
    "    if (cube%10)==0 or (cube%10)==5 or x%4==0:\n",
    "        l.append(i)\n",
    "print(l)\n"
   ]
  },
  {
   "cell_type": "code",
   "execution_count": null,
   "id": "2a7ecdca",
   "metadata": {},
   "outputs": [],
   "source": [
    "Q5. Write a program to filter count vowels in the below-given string.\n",
    "string = \"I want to become a data scientist\""
   ]
  },
  {
   "cell_type": "code",
   "execution_count": 12,
   "id": "ad885ed2",
   "metadata": {},
   "outputs": [
    {
     "name": "stdout",
     "output_type": "stream",
     "text": [
      "Number of vowels in the string are 12\n"
     ]
    }
   ],
   "source": [
    "string = \"I want to become a data scientist\"\n",
    "vowels=0\n",
    "for i in range(len(string)):\n",
    "    if string[i]=='a' or string[i]=='e' or string[i]=='i' or string[i]=='o' or string[i]=='u' or string[i]=='A' or string[i]=='E' or string[i]=='I' or string[i]=='O' or string[i]=='U':\n",
    "        vowels=vowels+1\n",
    "print(\"Number of vowels in the string are\",vowels)"
   ]
  },
  {
   "cell_type": "code",
   "execution_count": null,
   "id": "47e2e2d0",
   "metadata": {},
   "outputs": [],
   "source": []
  }
 ],
 "metadata": {
  "kernelspec": {
   "display_name": "Python 3 (ipykernel)",
   "language": "python",
   "name": "python3"
  },
  "language_info": {
   "codemirror_mode": {
    "name": "ipython",
    "version": 3
   },
   "file_extension": ".py",
   "mimetype": "text/x-python",
   "name": "python",
   "nbconvert_exporter": "python",
   "pygments_lexer": "ipython3",
   "version": "3.10.5"
  }
 },
 "nbformat": 4,
 "nbformat_minor": 5
}
