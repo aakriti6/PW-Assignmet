{
 "cells": [
  {
   "cell_type": "code",
   "execution_count": null,
   "id": "94882801",
   "metadata": {},
   "outputs": [],
   "source": [
    "Q1.What is an Excpetion in Python? Write the difference between Excpetions and Syntax errors.\n",
    "Ans.An exception is an event, which occurs during the execution of a program that disrupts the normal flow of the program's instructions.\n",
    "\n",
    "#Difference\n",
    "\n",
    "Errors mostly happen at compile-time like syntax error; however it can happen at runtime as well. \n",
    "Whereas an Exception occurs at runtime"
   ]
  },
  {
   "cell_type": "code",
   "execution_count": 4,
   "id": "6be97f98",
   "metadata": {},
   "outputs": [
    {
     "name": "stdout",
     "output_type": "stream",
     "text": [
      "division by zero\n"
     ]
    }
   ],
   "source": [
    "Q2. What happens when an exception is not handled? Write with an example.\n",
    "\n",
    "Ans. When an exception occurred, if you don't handle it, the program terminates abruptly and the code past the line that caused the exception will not get executed.\n",
    "\n",
    "Example:In the example, we are trying to divide a number by 0 . Here, this code generates an exception. To handle the exception, we have put the code, 5 / 0 inside the try block. Now when an exception occurs, the rest of the code inside the try block is skipped.\n",
    "    \n",
    "#Program\n",
    "try:\n",
    "    5/0\n",
    "    print(\"hello\") # this line will not get executed, the control will trafer to except block\n",
    "except Exception as e:\n",
    "    print(e)\n"
   ]
  },
  {
   "cell_type": "code",
   "execution_count": 5,
   "id": "0ac680ad",
   "metadata": {},
   "outputs": [
    {
     "name": "stdout",
     "output_type": "stream",
     "text": [
      "division by zero\n"
     ]
    }
   ],
   "source": [
    "Q3. Which python statements are used to catch and handle exceptions? Explain with an example.\n",
    "\n",
    "Ans.The try and except block in Python is used to catch and handle exceptions.\n",
    "    A try-catch block is used to mitigate errors in code and prevent program crashing during runtime. It 'tries' a block of code that could give an error. If the error (exception) is raised, it will execute a different block of code rather than crash the program.\n",
    "    A except is used to catch and handle the exception(s) that are encountered in the try clause.\n",
    "    \n",
    "#Program\n",
    "\n",
    "try:\n",
    "    5/0\n",
    "    print(\"hello\") # this line will not get executed, the control will trafer to except block\n",
    "except Exception as e:\n",
    "    print(e)"
   ]
  },
  {
   "cell_type": "code",
   "execution_count": 7,
   "id": "9c9983f9",
   "metadata": {},
   "outputs": [
    {
     "name": "stdout",
     "output_type": "stream",
     "text": [
      "Successfully executed\n"
     ]
    }
   ],
   "source": [
    "Q4. Explain with example\n",
    "\n",
    "Ans.\n",
    "\n",
    "4.1.try and else\n",
    "\n",
    "try:\n",
    "    f=open(\"text.txt\",'w')\n",
    "except Exception as e:\n",
    "    print(e)\n",
    "else:   # will be executed once try block gets executed without any error\n",
    "    print(\"Successfully executed\")\n",
    "    "
   ]
  },
  {
   "cell_type": "code",
   "execution_count": 10,
   "id": "48d1e8e3",
   "metadata": {},
   "outputs": [
    {
     "name": "stdout",
     "output_type": "stream",
     "text": [
      "[Errno 2] No such file or directory: 'text1.txt'\n",
      "execute even if there is error in try block\n"
     ]
    }
   ],
   "source": [
    "4.2.finally\n",
    "\n",
    "try:\n",
    "    f=open(\"text1.txt\",'r')\n",
    "except Exception as e:\n",
    "    print(e)\n",
    "else:   \n",
    "    print(\"Successfully executed\")\n",
    "finally:  #  will execute in any situation\n",
    "    print(\"execute even if there is error in try block\")\n"
   ]
  },
  {
   "cell_type": "code",
   "execution_count": 11,
   "id": "3cc8c043",
   "metadata": {},
   "outputs": [
    {
     "ename": "TypeError",
     "evalue": "Only integers are allowed",
     "output_type": "error",
     "traceback": [
      "\u001b[1;31m---------------------------------------------------------------------------\u001b[0m",
      "\u001b[1;31mTypeError\u001b[0m                                 Traceback (most recent call last)",
      "Cell \u001b[1;32mIn[11], line 6\u001b[0m\n\u001b[0;32m      3\u001b[0m x \u001b[38;5;241m=\u001b[39m \u001b[38;5;124m\"\u001b[39m\u001b[38;5;124mhello\u001b[39m\u001b[38;5;124m\"\u001b[39m\n\u001b[0;32m      5\u001b[0m \u001b[38;5;28;01mif\u001b[39;00m \u001b[38;5;129;01mnot\u001b[39;00m \u001b[38;5;28mtype\u001b[39m(x) \u001b[38;5;129;01mis\u001b[39;00m \u001b[38;5;28mint\u001b[39m:\n\u001b[1;32m----> 6\u001b[0m   \u001b[38;5;28;01mraise\u001b[39;00m \u001b[38;5;167;01mTypeError\u001b[39;00m(\u001b[38;5;124m\"\u001b[39m\u001b[38;5;124mOnly integers are allowed\u001b[39m\u001b[38;5;124m\"\u001b[39m)\n",
      "\u001b[1;31mTypeError\u001b[0m: Only integers are allowed"
     ]
    }
   ],
   "source": [
    "4.3.raise: The raise keyword is used to raise an exception.\n",
    "\n",
    "x = \"hello\"\n",
    "\n",
    "if not type(x) is int:\n",
    "  raise TypeError(\"Only integers are allowed\")\n",
    "\n"
   ]
  },
  {
   "cell_type": "code",
   "execution_count": 13,
   "id": "4c9e0ede",
   "metadata": {},
   "outputs": [
    {
     "name": "stdout",
     "output_type": "stream",
     "text": [
      "Enter a number: 5\n",
      "Exception occurred: Invalid Age\n"
     ]
    }
   ],
   "source": [
    "Q5. What are custom Exceptions in python? Why do we need Custom Exceptions? Write with an example\n",
    "\n",
    "Ans.Custom Exception:Like standard exception classes, custom exceptions are also classes. Hence, you can add functionality to the custom exception classes like: Adding attributes and properties. Adding methods e.g., log the exception, format the output, etc.\n",
    "\n",
    "Need:Built-in exceptions offer information about Python-related problems, and custom exceptions will add information about project-related problems.\n",
    "\n",
    "#Program\n",
    "class InvalidAgeException(Exception):\n",
    "    \"Raised when the input value is less than 18\"\n",
    "    pass\n",
    "\n",
    "# you need to guess this number\n",
    "number = 18\n",
    "\n",
    "try:\n",
    "    input_num = int(input(\"Enter a number: \"))\n",
    "    if input_num < number:\n",
    "        raise InvalidAgeException\n",
    "    else:\n",
    "        print(\"Eligible to Vote\")\n",
    "        \n",
    "except InvalidAgeException:\n",
    "    print(\"Exception occurred: Invalid Age\")"
   ]
  },
  {
   "cell_type": "code",
   "execution_count": 14,
   "id": "cfbe81ee",
   "metadata": {},
   "outputs": [
    {
     "name": "stdout",
     "output_type": "stream",
     "text": [
      "Enter a number: 21\n",
      "Eligible to Vote\n"
     ]
    }
   ],
   "source": [
    "Q6.Create a custom Exception class. Use this class to handle an exception.\n",
    "Ans.\n",
    "#Program\n",
    "class InvalidAgeException(Exception):\n",
    "    \"Raised when the input value is less than 18\"\n",
    "    pass\n",
    "\n",
    "# you need to guess this number\n",
    "number = 18\n",
    "\n",
    "try:\n",
    "    input_num = int(input(\"Enter a number: \"))\n",
    "    if input_num < number:\n",
    "        raise InvalidAgeException\n",
    "    else:\n",
    "        print(\"Eligible to Vote\")\n",
    "        \n",
    "except InvalidAgeException:\n",
    "    print(\"Exception occurred: Invalid Age\")"
   ]
  }
 ],
 "metadata": {
  "kernelspec": {
   "display_name": "Python 3 (ipykernel)",
   "language": "python",
   "name": "python3"
  },
  "language_info": {
   "codemirror_mode": {
    "name": "ipython",
    "version": 3
   },
   "file_extension": ".py",
   "mimetype": "text/x-python",
   "name": "python",
   "nbconvert_exporter": "python",
   "pygments_lexer": "ipython3",
   "version": "3.10.5"
  }
 },
 "nbformat": 4,
 "nbformat_minor": 5
}
