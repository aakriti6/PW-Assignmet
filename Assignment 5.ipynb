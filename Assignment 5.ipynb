{
 "cells": [
  {
   "cell_type": "code",
   "execution_count": null,
   "id": "6ace8530",
   "metadata": {},
   "outputs": [],
   "source": [
    "QUESTION 1: Create a python program to sort the given list of tuples based on integer value using a \n",
    "            lambda function.\n",
    "            [('Sachin Tendulkar', 34357), ('Ricky Ponting', 27483), ('Jack Kallis', 25534), ('Virat Kohli', 24936)].\n",
    "        \n",
    "ANSWER 1: Program:\n",
    "            List = [('Sachin Tendulkar', 34357), ('Ricky Ponting', 27483), ('Jack Kallis', 25534), ('Virat Kohli', 24936)]\n",
    "            List.sort(key = lambda x: x[1])\n",
    "            print(List)\n",
    "        \n",
    "                 OUTPUT:\n",
    "                     [('Virat Kohli', 24936), ('Jack Kallis', 25534), ('Ricky Ponting', 27483), ('Sachin Tendulkar', 34357)]\n",
    "                    "
   ]
  },
  {
   "cell_type": "code",
   "execution_count": null,
   "id": "8cb5191e",
   "metadata": {},
   "outputs": [],
   "source": [
    "QUESTION 2: Write a Python Program to find the squares of all the numbers in the given list of integers using \n",
    "            lambda and map functions.\n",
    "            [1, 2, 3, 4, 5, 6, 7, 8, 9, 10].\n",
    "    \n",
    "ANSWER 2: #Using lambda\n",
    "           Program:\n",
    "            List = [1, 2, 3, 4, 5, 6, 7, 8, 9, 10]\n",
    "            list(map(lambda x : x**2, List))\n",
    "            \n",
    "             OUTPUT:\n",
    "                [1, 4, 9, 16, 25, 36, 49, 64, 81, 100]\n",
    "                \n",
    "          #Using map\n",
    "            Program:\n",
    "                L = [1,2,3,4,5,6,7,8,9,10]\n",
    "                def sq(x):\n",
    "                    return x**2\n",
    "                list(map(sq,L))\n",
    "                         \n",
    "                 OUTPUT:\n",
    "                    [1, 4, 9, 16, 25, 36, 49, 64, 81, 100]\n",
    "                    "
   ]
  },
  {
   "cell_type": "code",
   "execution_count": null,
   "id": "e844db60",
   "metadata": {},
   "outputs": [],
   "source": [
    "QUESTION 3: Write a python program to convert the given list of integers into a tuple of strings. Use map and \n",
    "            lambda functions\n",
    "            Given String: [1, 2, 3, 4, 5, 6, 7, 8, 9, 10]\n",
    "            Expected output: ('1', '2', '3', '4', '5', '6', '7', '8', '9', '10').\n",
    "            \n",
    "ANSWER 3: Program:\n",
    "            A = [1, 2, 3, 4, 5, 6, 7, 8, 9, 10]\n",
    "            tuple(map(str, A))\n",
    "              \n",
    "              OUTPUT:\n",
    "                 ('1', '2', '3', '4', '5', '6', '7', '8', '9', '10')"
   ]
  },
  {
   "cell_type": "code",
   "execution_count": null,
   "id": "e249638f",
   "metadata": {},
   "outputs": [],
   "source": [
    "QUESTION 4: Write a python program using reduce function to compute the product of a list containing numbers \n",
    "            from 1 to 25 .\n",
    "\n",
    "ANSWER 4:  Program:\n",
    "            from functools import reduce\n",
    "            LIST = list(range(1,26))\n",
    "            reduce(lambda x, y : x * y, LIST)\n",
    "                \n",
    "              OUTPUT:\n",
    "                 15511210043330985984000000"
   ]
  },
  {
   "cell_type": "code",
   "execution_count": null,
   "id": "18f62ba7",
   "metadata": {},
   "outputs": [],
   "source": [
    "QUESTION 5: Write a python program to filter the numbers in a given list that are divisible by 2 and 3 using the \n",
    "            filter function.\n",
    "            [2, 3, 6, 9, 27, 60, 90, 120, 55, 46].\n",
    "    \n",
    "ANSWER 5: Program:\n",
    "            List = [2, 3, 6, 9, 27, 60, 90, 120, 55, 46]\n",
    "            list(filter(lambda x : x % 2 == 0 and x % 3 == 0))\n",
    "             \n",
    "             OUTPUT:\n",
    "                [6, 60, 90, 120]"
   ]
  },
  {
   "cell_type": "code",
   "execution_count": null,
   "id": "0f5454b7",
   "metadata": {},
   "outputs": [],
   "source": [
    "QUESTION 6: Write a python program to find palindromes in the given list of strings using lambda and filter \n",
    "            function.\n",
    "            ['python', 'php', 'aba', 'radar', 'level']\n",
    "        \n",
    "ANSWER 6: Program:\n",
    "            List = ['python', 'php', 'aba', 'radar', 'level']\n",
    "            list(filter(lambda x: (x == \"\".join(reversed(x))), List)) \n",
    "            \n",
    "                                   OR\n",
    "                \n",
    "            List = ['python', 'php', 'aba', 'radar', 'level']\n",
    "            result = list(filter(lambda x: (x == \"\".join(reversed(x))), List))\n",
    "            print(result)\n",
    "             \n",
    "                OUTPUT:\n",
    "                    ['php', 'aba', 'radar', 'level']"
   ]
  }
 ],
 "metadata": {
  "kernelspec": {
   "display_name": "Python 3 (ipykernel)",
   "language": "python",
   "name": "python3"
  },
  "language_info": {
   "codemirror_mode": {
    "name": "ipython",
    "version": 3
   },
   "file_extension": ".py",
   "mimetype": "text/x-python",
   "name": "python",
   "nbconvert_exporter": "python",
   "pygments_lexer": "ipython3",
   "version": "3.10.5"
  }
 },
 "nbformat": 4,
 "nbformat_minor": 5
}
