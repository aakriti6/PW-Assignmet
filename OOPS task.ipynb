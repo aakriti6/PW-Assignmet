{
 "cells": [
  {
   "cell_type": "code",
   "execution_count": 41,
   "id": "f4009cdc",
   "metadata": {},
   "outputs": [
    {
     "name": "stdout",
     "output_type": "stream",
     "text": [
      "audi\n",
      "789\n",
      "88\n"
     ]
    }
   ],
   "source": [
    "Q1.Create a vehicle class with an init method having instance variables as name_of_vehicle, max_speed\n",
    "and average_of_vehicle.\n",
    "Ans.\n",
    "#Program\n",
    "class Vehicle:\n",
    "    def __init__(self,name_of_vehicle,max_speed,average_of_speed):\n",
    "        self.name_of_vehicle=name_of_vehicle\n",
    "        self.max_speed=max_speed\n",
    "        self.average_of_speed=average_of_speed\n",
    "        \n",
    "v1=Vehicle(\"audi\",789,88)\n",
    "print(v1.name_of_vehicle)\n",
    "print(v1.max_speed)\n",
    "print(v1.average_of_speed)"
   ]
  },
  {
   "cell_type": "code",
   "execution_count": 49,
   "id": "1634656b",
   "metadata": {},
   "outputs": [
    {
     "name": "stdout",
     "output_type": "stream",
     "text": [
      "(5, 'audi')\n"
     ]
    }
   ],
   "source": [
    "Q2. Create a child class car from the vehicle class created in Que 1, which will inherit the vehicle class.\n",
    "Create a method named seating_capacity which takes capacity as an argument and returns the name of\n",
    "the vehicle and its seating capacity.\n",
    "Ans.\n",
    "#Program\n",
    "class Vehicle:\n",
    "    def __init__(self,name_of_vehicle,max_speed,average_of_speed):\n",
    "        self.name_of_vehicle=name_of_vehicle\n",
    "        self.max_speed=max_speed\n",
    "        self.average_of_speed=average_of_speed\n",
    "        \n",
    "v1=Vehicle(\"audi\",789,88)\n",
    "\n",
    "class car(Vehicle):\n",
    "    def seating_capacity(self,capacity):\n",
    "        return capacity,v1.name_of_vehicle\n",
    "v2=car(\"audi\",789,88)\n",
    "print(v2.seating_capacity(5))"
   ]
  },
  {
   "cell_type": "code",
   "execution_count": 51,
   "id": "f44d3a19",
   "metadata": {},
   "outputs": [
    {
     "name": "stdout",
     "output_type": "stream",
     "text": [
      "In Class2\n"
     ]
    }
   ],
   "source": [
    "Q3. What is multiple inheritance? Write a python code to demonstrate multiple inheritance.\n",
    "\n",
    "Ans. Multiple Inheritance:When a class is derived from more than one base class it is called multiple Inheritance.\n",
    "      The derived class inherits all the features of the base case.\n",
    "    \n",
    "#Program\n",
    "\n",
    "class Class1:\n",
    "    def m(self):\n",
    "        print(\"In Class1\")\n",
    "       \n",
    "class Class2(Class1):\n",
    "    def m(self):\n",
    "        print(\"In Class2\")\n",
    " \n",
    "class Class3(Class1):\n",
    "    def m(self):\n",
    "        print(\"In Class3\") \n",
    "        \n",
    "class Class4(Class2, Class3):\n",
    "    pass  \n",
    "     \n",
    "obj = Class4()\n",
    "obj.m()"
   ]
  },
  {
   "cell_type": "code",
   "execution_count": 56,
   "id": "fa0eb651",
   "metadata": {},
   "outputs": [
    {
     "name": "stdout",
     "output_type": "stream",
     "text": [
      "0\n",
      "21\n",
      "21\n"
     ]
    }
   ],
   "source": [
    "Q4. What are getter and setter in python? Create a class and create a getter and a setter method in this\n",
    "class.\n",
    "Ans. Getters and Setters in python are often used when:\n",
    "    ---> We use getters & setters to add validation logic around getting and setting a value.\n",
    "    ---> To avoid direct access of a class field i.e. private variables cannot be accessed directly or modified by external user.\n",
    "\n",
    "#Program\n",
    "class update:\n",
    "    def __init__(self, age = 0):\n",
    "         self._age = age\n",
    "      \n",
    "    def get_age(self):\n",
    "        return self._age\n",
    "      \n",
    "    def set_age(self, x):\n",
    "        self._age = x\n",
    "  \n",
    "yashi = update()\n",
    "\n",
    "print(yashi._age)\n",
    "  \n",
    "yashi.set_age(21)\n",
    "  \n",
    "print(yashi.get_age())\n",
    "  \n",
    "print(yashi._age)"
   ]
  },
  {
   "cell_type": "code",
   "execution_count": 57,
   "id": "01df88b7",
   "metadata": {},
   "outputs": [
    {
     "name": "stdout",
     "output_type": "stream",
     "text": [
      "Inside Parent\n",
      "Inside Child\n"
     ]
    }
   ],
   "source": [
    "Q5.What is method overriding in python? Write a python code to demonstrate method overriding.\n",
    "Ans.Method Overriding:Method overriding is a feature of object-oriented programming languages where the subclass or child class can provide the program with specific characteristics or a specific implementation process of data provided that are already defined in the parent class or superclass.\n",
    "    \n",
    "#Program\n",
    "class Parent():\n",
    "      \n",
    "    # Constructor\n",
    "    def __init__(self):\n",
    "        self.value = \"Inside Parent\"\n",
    "          \n",
    "    # Parent's show method\n",
    "    def show(self):\n",
    "        print(self.value)\n",
    "          \n",
    "# Defining child class\n",
    "class Child(Parent):\n",
    "      \n",
    "    # Constructor\n",
    "    def __init__(self):\n",
    "        self.value = \"Inside Child\"\n",
    "          \n",
    "    # Child's show method\n",
    "    def show(self):\n",
    "        print(self.value)\n",
    "          \n",
    "          \n",
    "# Driver's code\n",
    "obj1 = Parent()\n",
    "obj2 = Child()\n",
    "  \n",
    "obj1.show()\n",
    "obj2.show()\n",
    "    "
   ]
  }
 ],
 "metadata": {
  "kernelspec": {
   "display_name": "Python 3 (ipykernel)",
   "language": "python",
   "name": "python3"
  },
  "language_info": {
   "codemirror_mode": {
    "name": "ipython",
    "version": 3
   },
   "file_extension": ".py",
   "mimetype": "text/x-python",
   "name": "python",
   "nbconvert_exporter": "python",
   "pygments_lexer": "ipython3",
   "version": "3.10.5"
  }
 },
 "nbformat": 4,
 "nbformat_minor": 5
}
